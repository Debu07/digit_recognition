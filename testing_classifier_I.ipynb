{
 "cells": [
  {
   "cell_type": "markdown",
   "metadata": {},
   "source": [
    "# Testing Our classifier on a real image"
   ]
  },
  {
   "cell_type": "code",
   "execution_count": 1,
   "metadata": {},
   "outputs": [
    {
     "name": "stderr",
     "output_type": "stream",
     "text": [
      "Using TensorFlow backend.\n",
      "WARNING: Logging before flag parsing goes to stderr.\n",
      "W0709 18:27:53.364663  7996 deprecation_wrapper.py:119] From C:\\Users\\VEDANT MEHTA\\Anaconda3\\envs\\cv\\lib\\site-packages\\keras\\backend\\tensorflow_backend.py:517: The name tf.placeholder is deprecated. Please use tf.compat.v1.placeholder instead.\n",
      "\n",
      "W0709 18:27:53.389172  7996 deprecation_wrapper.py:119] From C:\\Users\\VEDANT MEHTA\\Anaconda3\\envs\\cv\\lib\\site-packages\\keras\\backend\\tensorflow_backend.py:4138: The name tf.random_uniform is deprecated. Please use tf.random.uniform instead.\n",
      "\n",
      "W0709 18:27:53.421086  7996 deprecation_wrapper.py:119] From C:\\Users\\VEDANT MEHTA\\Anaconda3\\envs\\cv\\lib\\site-packages\\keras\\backend\\tensorflow_backend.py:3976: The name tf.nn.max_pool is deprecated. Please use tf.nn.max_pool2d instead.\n",
      "\n",
      "W0709 18:27:53.506248  7996 deprecation_wrapper.py:119] From C:\\Users\\VEDANT MEHTA\\Anaconda3\\envs\\cv\\lib\\site-packages\\keras\\backend\\tensorflow_backend.py:174: The name tf.get_default_session is deprecated. Please use tf.compat.v1.get_default_session instead.\n",
      "\n",
      "W0709 18:27:53.506248  7996 deprecation_wrapper.py:119] From C:\\Users\\VEDANT MEHTA\\Anaconda3\\envs\\cv\\lib\\site-packages\\keras\\backend\\tensorflow_backend.py:181: The name tf.ConfigProto is deprecated. Please use tf.compat.v1.ConfigProto instead.\n",
      "\n",
      "W0709 18:27:53.506248  7996 deprecation_wrapper.py:119] From C:\\Users\\VEDANT MEHTA\\Anaconda3\\envs\\cv\\lib\\site-packages\\keras\\backend\\tensorflow_backend.py:186: The name tf.Session is deprecated. Please use tf.compat.v1.Session instead.\n",
      "\n",
      "W0709 18:27:53.587201  7996 deprecation_wrapper.py:119] From C:\\Users\\VEDANT MEHTA\\Anaconda3\\envs\\cv\\lib\\site-packages\\keras\\optimizers.py:790: The name tf.train.Optimizer is deprecated. Please use tf.compat.v1.train.Optimizer instead.\n",
      "\n",
      "W0709 18:27:53.674699  7996 deprecation.py:323] From C:\\Users\\VEDANT MEHTA\\Anaconda3\\envs\\cv\\lib\\site-packages\\tensorflow\\python\\ops\\math_grad.py:1250: add_dispatch_support.<locals>.wrapper (from tensorflow.python.ops.array_ops) is deprecated and will be removed in a future version.\n",
      "Instructions for updating:\n",
      "Use tf.where in 2.0, which has the same broadcast rule as np.where\n"
     ]
    },
    {
     "name": "stdout",
     "output_type": "stream",
     "text": [
      "the number is: 7155851395\n"
     ]
    }
   ],
   "source": [
    "import cv2\n",
    "from keras.models import load_model\n",
    "import  numpy as np\n",
    "from preprocessors import x_cord_contour , makeSquare , resize_to_pixel\n",
    "\n",
    "classifier = load_model('/Users/VEDANT MEHTA/Desktop/My new Udemy Course/DeepLearningCV/Trained Models/mnist_simple_cnn.h5')\n",
    "\n",
    "image=cv2.imread(\"/Users/VEDANT MEHTA/Desktop/My new Udemy Course/Digit_recognition/numbers.jpg\")\n",
    "re_image=cv2.resize(image,(500,500))\n",
    "gray=cv2.cvtColor(re_image,cv2.COLOR_BGR2GRAY)\n",
    "cv2.imshow(\"image\",re_image)\n",
    "cv2.waitKey(0)\n",
    "\n",
    "blurred=cv2.GaussianBlur(gray,(5,5),0)\n",
    "edged=cv2.Canny(blurred,50,200)\n",
    "contours,_=cv2.findContours(edged.copy(),cv2.RETR_EXTERNAL,cv2.CHAIN_APPROX_SIMPLE)\n",
    "try:\n",
    "    contours=sorted(contours,key=x_cord_contour,reverse=False)\n",
    "except:\n",
    "    print(\"continue\")\n",
    "full_number=[]\n",
    "for c in contours:\n",
    "    x,y,w,h=cv2.boundingRect(c)\n",
    "    if w>=5 and h>=25:\n",
    "        roi = blurred[y:y + h, x:x + w]\n",
    "        ret, roi = cv2.threshold(roi, 127, 255,cv2.THRESH_BINARY_INV)\n",
    "        roi = makeSquare(roi)\n",
    "        roi = resize_to_pixel(28, roi)\n",
    "        cv2.imshow(\"ROI\", roi)\n",
    "        roi = roi / 255.0       \n",
    "        roi = roi.reshape(1,28,28,1) \n",
    "        \n",
    "        res = str(classifier.predict_classes(roi, 1, verbose = 0)[0])\n",
    "        full_number.append(res)\n",
    "        cv2.rectangle(image, (x, y), (x + w, y + h), (0, 0, 255), 2)\n",
    "        cv2.putText(image, res, (x , y + 155), cv2.FONT_HERSHEY_COMPLEX, 2, (255, 0, 0), 2)\n",
    "        cv2.imshow(\"image\", image)\n",
    "        cv2.waitKey(0) \n",
    "\n",
    "cv2.destroyAllWindows()\n",
    "print(\"the number is: \"+ ''.join(full_number))"
   ]
  },
  {
   "cell_type": "code",
   "execution_count": null,
   "metadata": {},
   "outputs": [],
   "source": []
  }
 ],
 "metadata": {
  "kernelspec": {
   "display_name": "Python 3",
   "language": "python",
   "name": "python3"
  },
  "language_info": {
   "codemirror_mode": {
    "name": "ipython",
    "version": 3
   },
   "file_extension": ".py",
   "mimetype": "text/x-python",
   "name": "python",
   "nbconvert_exporter": "python",
   "pygments_lexer": "ipython3",
   "version": "3.6.8"
  }
 },
 "nbformat": 4,
 "nbformat_minor": 2
}
