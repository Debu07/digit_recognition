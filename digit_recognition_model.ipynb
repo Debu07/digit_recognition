{
 "cells": [
  {
   "cell_type": "markdown",
   "metadata": {},
   "source": [
    "# Loading Our Dataset"
   ]
  },
  {
   "cell_type": "code",
   "execution_count": 72,
   "metadata": {
    "scrolled": true
   },
   "outputs": [
    {
     "name": "stdout",
     "output_type": "stream",
     "text": [
      "(60000, 28, 28)\n"
     ]
    }
   ],
   "source": [
    "from keras.datasets import mnist\n",
    "\n",
    "(x_train,y_train),(x_test,y_test)=mnist.load_data()\n",
    "\n",
    "print(x_train.shape)"
   ]
  },
  {
   "cell_type": "markdown",
   "metadata": {},
   "source": [
    "# examine size and image dimension (not required but good practice to know about your data)"
   ]
  },
  {
   "cell_type": "code",
   "execution_count": 73,
   "metadata": {},
   "outputs": [
    {
     "name": "stdout",
     "output_type": "stream",
     "text": [
      "initial shape/dimension of train data set:  (60000, 28, 28)\n",
      "No. of samples in train dataset:  60000\n",
      "No. of labels in test dataset:  60000\n",
      "No. of samples in test dataset:  10000\n",
      "No. of labels in test dataset:  10000\n",
      " \n",
      "dimensions of images in train dataset:  (28, 28)\n",
      "labels in train:  (60000,)\n",
      "dimensions of images in test dataset:  (28, 28)\n",
      "labels in test:  (10000,)\n"
     ]
    }
   ],
   "source": [
    "print(\"initial shape/dimension of train data set: \",x_train.shape)\n",
    "print(\"No. of samples in train dataset: \",len(x_train))\n",
    "print(\"No. of labels in test dataset: \",len(y_train))\n",
    "print(\"No. of samples in test dataset: \",len(x_test))\n",
    "print(\"No. of labels in test dataset: \",len(y_test))\n",
    "print(\" \")\n",
    "print(\"dimensions of images in train dataset: \",x_train[0].shape)\n",
    "print(\"labels in train: \",y_train.shape)\n",
    "print(\"dimensions of images in test dataset: \",x_test[0].shape)\n",
    "print(\"labels in test: \",y_test.shape)"
   ]
  },
  {
   "cell_type": "markdown",
   "metadata": {},
   "source": [
    "# getting our data in shape (x_train and x_test)"
   ]
  },
  {
   "cell_type": "code",
   "execution_count": 74,
   "metadata": {},
   "outputs": [
    {
     "name": "stdout",
     "output_type": "stream",
     "text": [
      "x_train shape ->  (60000, 28, 28, 1)\n",
      "y_train shape ->  (60000,)\n",
      "x_test shape ->  (10000, 28, 28, 1)\n",
      "y_test shape ->  (10000,)\n"
     ]
    }
   ],
   "source": [
    "img_rows=x_train[0].shape[0]\n",
    "#print(img_rows)\n",
    "img_cols=x_train[0].shape[1]\n",
    "#print(img_cols)\n",
    "\n",
    "x_train=x_train.reshape(x_train.shape[0],img_rows,img_cols,1)\n",
    "x_test=x_test.reshape(x_test.shape[0],img_rows,img_cols,1)\n",
    "input_shape=(img_rows,img_cols,1)\n",
    "#we got everything till now in int we have to convert to float for keras \n",
    "x_train=x_train.astype('float32')\n",
    "x_test=x_test.astype('float32')\n",
    "\n",
    "#normalization: as we are using non color images so we need to divide it by 255(0-255 range of colors)\n",
    "x_train/=255\n",
    "x_test/=255\n",
    "\n",
    "print(\"x_train shape -> \",x_train.shape)\n",
    "\n",
    "print(\"y_train shape -> \",y_train.shape)\n",
    "\n",
    "print(\"x_test shape -> \",x_test.shape)\n",
    "\n",
    "print(\"y_test shape -> \",y_test.shape)"
   ]
  },
  {
   "cell_type": "markdown",
   "metadata": {},
   "source": [
    "# hot encoding our data (y_train and y_test)"
   ]
  },
  {
   "cell_type": "code",
   "execution_count": 75,
   "metadata": {},
   "outputs": [
    {
     "name": "stdout",
     "output_type": "stream",
     "text": [
      "No. of classes:  10 (0-9)\n",
      "28 X 28 = 784\n"
     ]
    }
   ],
   "source": [
    "from keras.utils import np_utils\n",
    "y_train=np_utils.to_categorical(y_train)\n",
    "y_test=np_utils.to_categorical(y_test)\n",
    "\n",
    "print(\"No. of classes: \" ,y_test.shape[1],\"(0-9)\")\n",
    "num_classes=y_test.shape[1]\n",
    "num_pixels=x_train.shape[1]*x_train.shape[2]\n",
    "print(x_train.shape[1],\"X\",x_train.shape[2],'=',num_pixels)\n"
   ]
  },
  {
   "cell_type": "markdown",
   "metadata": {},
   "source": [
    "# building our model\n",
    "\n",
    "layers in our model:\n",
    "1. conv\n",
    "2. conv\n",
    "3. pooling\n",
    "4. dropout\n",
    "5. flatten\n",
    "6. dense\n",
    "7. dropout \n",
    "8. dense\n"
   ]
  },
  {
   "cell_type": "code",
   "execution_count": 76,
   "metadata": {},
   "outputs": [
    {
     "name": "stdout",
     "output_type": "stream",
     "text": [
      "_________________________________________________________________\n",
      "Layer (type)                 Output Shape              Param #   \n",
      "=================================================================\n",
      "conv2d_9 (Conv2D)            (None, 26, 26, 32)        320       \n",
      "_________________________________________________________________\n",
      "conv2d_10 (Conv2D)           (None, 24, 24, 64)        18496     \n",
      "_________________________________________________________________\n",
      "max_pooling2d_5 (MaxPooling2 (None, 12, 12, 64)        0         \n",
      "_________________________________________________________________\n",
      "dropout_9 (Dropout)          (None, 12, 12, 64)        0         \n",
      "_________________________________________________________________\n",
      "flatten_5 (Flatten)          (None, 9216)              0         \n",
      "_________________________________________________________________\n",
      "dense_9 (Dense)              (None, 128)               1179776   \n",
      "_________________________________________________________________\n",
      "dropout_10 (Dropout)         (None, 128)               0         \n",
      "_________________________________________________________________\n",
      "dense_10 (Dense)             (None, 10)                1290      \n",
      "=================================================================\n",
      "Total params: 1,199,882\n",
      "Trainable params: 1,199,882\n",
      "Non-trainable params: 0\n",
      "_________________________________________________________________\n",
      "None\n"
     ]
    }
   ],
   "source": [
    "import keras\n",
    "from keras.datasets import mnist\n",
    "from keras.models import Sequential\n",
    "from keras.layers import Dense , Dropout , Flatten, Conv2D , MaxPooling2D\n",
    "from keras import backend as K\n",
    "from keras.optimizers import SGD\n",
    "\n",
    "model=Sequential()\n",
    "\n",
    "model.add(Conv2D(32,kernel_size=(3,3),activation='relu',input_shape=input_shape))\n",
    "model.add(Conv2D(64,(3,3),activation='relu'))\n",
    "model.add(MaxPooling2D(pool_size=(2,2)))\n",
    "model.add(Dropout(0.25))\n",
    "model.add(Flatten())\n",
    "model.add(Dense(128,activation='relu'))\n",
    "model.add(Dropout(0.5))\n",
    "model.add(Dense(num_classes,activation='softmax'))\n",
    "\n",
    "model.compile(loss='categorical_crossentropy',optimizer=SGD(0.01),metrics=['accuracy'])\n",
    "print(model.summary())\n",
    "              "
   ]
  },
  {
   "cell_type": "markdown",
   "metadata": {},
   "source": [
    "# training our classifier"
   ]
  },
  {
   "cell_type": "code",
   "execution_count": 78,
   "metadata": {},
   "outputs": [
    {
     "name": "stdout",
     "output_type": "stream",
     "text": [
      "Train on 60000 samples, validate on 10000 samples\n",
      "Epoch 1/10\n",
      "60000/60000 [==============================] - 125s 2ms/step - loss: 0.2990 - acc: 0.9090 - val_loss: 0.1407 - val_acc: 0.9574\n",
      "Epoch 2/10\n",
      "60000/60000 [==============================] - 123s 2ms/step - loss: 0.2220 - acc: 0.9351 - val_loss: 0.1056 - val_acc: 0.9689\n",
      "Epoch 3/10\n",
      "60000/60000 [==============================] - 124s 2ms/step - loss: 0.1722 - acc: 0.9481 - val_loss: 0.0824 - val_acc: 0.9753\n",
      "Epoch 4/10\n",
      "60000/60000 [==============================] - 124s 2ms/step - loss: 0.1383 - acc: 0.9595 - val_loss: 0.0673 - val_acc: 0.9792\n",
      "Epoch 5/10\n",
      "60000/60000 [==============================] - 125s 2ms/step - loss: 0.1182 - acc: 0.9649 - val_loss: 0.0617 - val_acc: 0.9801\n",
      "Epoch 6/10\n",
      "60000/60000 [==============================] - 125s 2ms/step - loss: 0.1056 - acc: 0.9676 - val_loss: 0.0545 - val_acc: 0.9816\n",
      "Epoch 7/10\n",
      "60000/60000 [==============================] - 122s 2ms/step - loss: 0.0970 - acc: 0.9710 - val_loss: 0.0487 - val_acc: 0.9836\n",
      "Epoch 8/10\n",
      "60000/60000 [==============================] - 121s 2ms/step - loss: 0.0891 - acc: 0.9727 - val_loss: 0.0471 - val_acc: 0.9843\n",
      "Epoch 9/10\n",
      "60000/60000 [==============================] - 124s 2ms/step - loss: 0.0820 - acc: 0.9751 - val_loss: 0.0445 - val_acc: 0.9852\n",
      "Epoch 10/10\n",
      "60000/60000 [==============================] - 125s 2ms/step - loss: 0.0752 - acc: 0.9775 - val_loss: 0.0422 - val_acc: 0.9861\n",
      "Test Loss:  0.04224952038611227\n",
      "Test Accuracy:  0.9861\n"
     ]
    }
   ],
   "source": [
    "batch_size=32\n",
    "epochs=10\n",
    "history=model.fit(x_train,y_train,batch_size=batch_size,epochs=epochs,verbose=1,validation_data=(x_test,y_test))\n",
    "score=model.evaluate(x_test,y_test,verbose=0)\n",
    "print(\"Test Loss: \" ,score[0])\n",
    "print(\"Test Accuracy: \" ,score[1])\n"
   ]
  },
  {
   "cell_type": "markdown",
   "metadata": {},
   "source": [
    "# Plotting loss and accuracy"
   ]
  },
  {
   "cell_type": "code",
   "execution_count": 84,
   "metadata": {},
   "outputs": [
    {
     "data": {
      "image/png": "[encoded data removed]",
      "text/plain": [
       "<Figure size 432x288 with 1 Axes>"
      ]
     },
     "metadata": {
      "needs_background": "light"
     },
     "output_type": "display_data"
    }
   ],
   "source": [
    "import matplotlib.pyplot as plt\n",
    "%matplotlib inline\n",
    "\n",
    "history_dict=history.history\n",
    "loss_values=history_dict['loss']\n",
    "val_loss_values=history_dict[\"val_loss\"]\n",
    "epochs=range(1,len(loss_values)+1)\n",
    "\n",
    "line1=plt.plot(epochs,val_loss_values,label='validation/test loss')\n",
    "line2=plt.plot(epochs , loss_values,label='Training Loss')\n",
    "plt.setp(line1,linewidth=2.0,marker='+',markersize=10.0)\n",
    "plt.setp(line2,linewidth=2.0,marker='4',markersize=10.0)\n",
    "plt.xlabel('Epochs')\n",
    "plt.ylabel('Loss')\n",
    "plt.grid(True)\n",
    "plt.legend()\n",
    "plt.show()"
   ]
  },
  {
   "cell_type": "code",
   "execution_count": 85,
   "metadata": {},
   "outputs": [
    {
     "data": {
      "image/png": "[encoded data removed]",
      "text/plain": [
       "<Figure size 432x288 with 1 Axes>"
      ]
     },
     "metadata": {
      "needs_background": "light"
     },
     "output_type": "display_data"
    }
   ],
   "source": [
    "import matplotlib.pyplot as plt\n",
    "%matplotlib inline\n",
    "\n",
    "history_dict=history.history\n",
    "loss_values=history_dict['loss']\n",
    "val_loss_values=history_dict[\"val_acc\"]\n",
    "epochs=range(1,len(loss_values)+1)\n",
    "\n",
    "line1=plt.plot(epochs,val_loss_values,label='validation/test accuracy')\n",
    "line2=plt.plot(epochs , loss_values,label='Training Accuracy')\n",
    "plt.setp(line1,linewidth=2.0,marker='+',markersize=10.0)\n",
    "plt.setp(line2,linewidth=2.0,marker='4',markersize=10.0)\n",
    "plt.xlabel('Epochs')\n",
    "plt.ylabel('Accuracy')\n",
    "plt.grid(True)\n",
    "plt.legend()\n",
    "plt.show()"
   ]
  },
  {
   "cell_type": "markdown",
   "metadata": {},
   "source": [
    "# saving the model we just trained"
   ]
  },
  {
   "cell_type": "code",
   "execution_count": 86,
   "metadata": {},
   "outputs": [
    {
     "name": "stdout",
     "output_type": "stream",
     "text": [
      "model saved successfully!!\n"
     ]
    }
   ],
   "source": [
    "model.save(\"/Users/VEDANT MEHTA/Desktop/My new Udemy Course/Digit_recognition/digit_recognition_model.h5\")\n",
    "print(\"model saved successfully!!\")"
   ]
  },
  {
   "cell_type": "code",
   "execution_count": null,
   "metadata": {},
   "outputs": [],
   "source": []
  }
 ],
 "metadata": {
  "kernelspec": {
   "display_name": "Python 3",
   "language": "python",
   "name": "python3"
  },
  "language_info": {
   "codemirror_mode": {
    "name": "ipython",
    "version": 3
   },
   "file_extension": ".py",
   "mimetype": "text/x-python",
   "name": "python",
   "nbconvert_exporter": "python",
   "pygments_lexer": "ipython3",
   "version": "3.6.8"
  }
 },
 "nbformat": 4,
 "nbformat_minor": 2
}
